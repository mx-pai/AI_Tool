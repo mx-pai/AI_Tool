{
 "cells": [
  {
   "cell_type": "code",
   "execution_count": 1,
   "metadata": {},
   "outputs": [
    {
     "name": "stdout",
     "output_type": "stream",
     "text": [
      "Model loaded successfully.\n"
     ]
    }
   ],
   "source": [
    "from vosk import Model, KaldiRecognizer\n",
    "import os\n",
    "\n",
    "model_path = \"../model/vosk-model-small-cn-0.22\"\n",
    "\n",
    "if not os.path.exists(model_path):\n",
    "    raise Exception(f\"Model path {model_path} does not exist\")\n",
    "\n",
    "try:\n",
    "    model = Model(model_path)\n",
    "    print(\"Model loaded successfully.\")\n",
    "except Exception as e:\n",
    "    print(f\"Failed to load model: {e}\")\n"
   ]
  },
  {
   "cell_type": "code",
   "execution_count": 2,
   "metadata": {},
   "outputs": [
    {
     "name": "stdout",
     "output_type": "stream",
     "text": [
      "Using device index: 1\n",
      "Recording...\n",
      "Data received: 8000 bytes\n",
      "Data received: 8000 bytes\n",
      "Data received: 8000 bytes\n",
      "Data received: 8000 bytes\n",
      "Data received: 8000 bytes\n",
      "Data received: 8000 bytes\n",
      "Data received: 8000 bytes\n",
      "Data received: 8000 bytes\n",
      "Data received: 8000 bytes\n",
      "Data received: 8000 bytes\n"
     ]
    }
   ],
   "source": [
    "import pyaudio\n",
    "\n",
    "def test_microphone():\n",
    "    p = pyaudio.PyAudio()\n",
    "\n",
    "    # 获取默认输入设备的索引\n",
    "    device_index = p.get_default_input_device_info()['index']\n",
    "    print(f\"Using device index: {device_index}\")\n",
    "\n",
    "    stream = p.open(format=pyaudio.paInt16, channels=1, rate=16000, input=True, frames_per_buffer=4000, input_device_index=device_index)\n",
    "\n",
    "    print(\"Recording...\")\n",
    "    try:\n",
    "        for _ in range(10):  # 录制10次\n",
    "            data = stream.read(4000)\n",
    "            print(f\"Data received: {len(data)} bytes\")\n",
    "    finally:\n",
    "        stream.stop_stream()\n",
    "        stream.close()\n",
    "        p.terminate()\n",
    "\n",
    "test_microphone()\n"
   ]
  },
  {
   "cell_type": "code",
   "execution_count": null,
   "metadata": {},
   "outputs": [],
   "source": []
  }
 ],
 "metadata": {
  "kernelspec": {
   "display_name": "Python 3",
   "language": "python",
   "name": "python3"
  },
  "language_info": {
   "codemirror_mode": {
    "name": "ipython",
    "version": 3
   },
   "file_extension": ".py",
   "mimetype": "text/x-python",
   "name": "python",
   "nbconvert_exporter": "python",
   "pygments_lexer": "ipython3",
   "version": "3.12.3"
  }
 },
 "nbformat": 4,
 "nbformat_minor": 2
}
